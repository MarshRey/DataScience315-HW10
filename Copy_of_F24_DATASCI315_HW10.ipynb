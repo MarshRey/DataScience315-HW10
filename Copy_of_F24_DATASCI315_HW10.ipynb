{
  "cells": [
    {
      "cell_type": "markdown",
      "metadata": {
        "id": "view-in-github",
        "colab_type": "text"
      },
      "source": [
        "<a href=\"https://colab.research.google.com/github/MarshRey/DataScience315-HW10/blob/main/Copy_of_F24_DATASCI315_HW10.ipynb\" target=\"_parent\"><img src=\"https://colab.research.google.com/assets/colab-badge.svg\" alt=\"Open In Colab\"/></a>"
      ]
    },
    {
      "cell_type": "markdown",
      "metadata": {
        "id": "EoV4_zs4HACw"
      },
      "source": [
        "<font color=\"#de3023\"><h1><b>REMINDER: MAKE A COPY OF THIS NOTEBOOK, DO NOT EDIT</b></h1></font>\n",
        "\n",
        "To copy the notebook, go to File and click create \"Save a copy to ...\" and work on that copy.\n",
        "\n",
        "Please submit a pdf of the page of your notebook (Ctrl + p on the page, save as pdf, and submit that pdf) on gradescope.\n",
        "\n",
        "Please remember to assign pages to the appropriate questions. Not doing so will result in the deduction of points. Please submit a **pdf** version of the colab notebook.\n",
        "\n",
        "We will not rerun your uploaded notebook, so make sure to run each cell before downloading so that all outputs and plots are visible on the saved pdf.\n"
      ]
    },
    {
      "cell_type": "markdown",
      "metadata": {
        "id": "8aQeeQ7LHBIp"
      },
      "source": [
        "## Question 0 Part 1\n",
        "Do you have confusions or questions about the previous lectures?  (This is optional to answer)"
      ]
    },
    {
      "cell_type": "markdown",
      "metadata": {
        "id": "lyjBxN3wHEyj"
      },
      "source": [
        "(Answer here)"
      ]
    },
    {
      "cell_type": "markdown",
      "metadata": {
        "id": "7dFKluk0HKaR"
      },
      "source": [
        "## Question 0 Part 2\n",
        "Any suggestions or thoughts about the course? (This is optional to answer)"
      ]
    },
    {
      "cell_type": "markdown",
      "metadata": {
        "id": "KHeB4e00HPJ0"
      },
      "source": [
        "(Answer here)"
      ]
    },
    {
      "cell_type": "code",
      "execution_count": null,
      "metadata": {
        "id": "qE_dOUBSriPR"
      },
      "outputs": [],
      "source": [
        "import tensorflow as tf\n",
        "import numpy as np\n",
        "from tensorflow import keras\n",
        "from tensorflow.keras import layers\n",
        "from matplotlib import pyplot as plt\n",
        "from sklearn.model_selection import train_test_split\n",
        "from sklearn.preprocessing import StandardScaler\n",
        "from tensorflow.keras.datasets import mnist\n",
        "import pickle\n",
        "import cv2"
      ]
    },
    {
      "cell_type": "markdown",
      "metadata": {
        "id": "qB-67jeLsGYc"
      },
      "source": [
        "# Question 1 - Residual block implementation - (40 points)\n",
        "\n"
      ]
    },
    {
      "cell_type": "markdown",
      "metadata": {
        "id": "OZGIVBwTXOFA"
      },
      "source": [
        "An important aspect of deep learning is to convert a conceptual idea of neural network or a neural architecture into code. This motivates the idea of blocks. Many neural network models use many blocks (which are a collection of layers) to build the neural network. Let's further explore this idea.\n",
        "\n",
        "---\n",
        "\n",
        "Suppose we want to implement the following block\n",
        "\n",
        "<img src='https://drive.google.com/uc?id=1Eu6XK96JwDJA0r_qBDkmpU5IihSJQYja' width = 400>\n",
        "\n",
        "I would write the following code to implement this block. And this block can be used a building blocks for a complex neural network."
      ]
    },
    {
      "cell_type": "code",
      "execution_count": null,
      "metadata": {
        "id": "qxFWPlYfSK2C"
      },
      "outputs": [],
      "source": [
        "class ExampleBlock(keras.Model):\n",
        "  def __init__(self):\n",
        "    super(ExampleBlock, self).__init__()\n",
        "    self.dense1 = layers.Dense(64, activation='relu',\n",
        "                               kernel_initializer = tf.keras.initializers.RandomNormal(mean=0.0, stddev=0.05, seed=100))\n",
        "    self.dense2 = layers.Dense(64, activation = \"relu\",\n",
        "                               kernel_initializer = tf.keras.initializers.RandomNormal(mean=0.0, stddev=0.05, seed=100))\n",
        "\n",
        "  def call(self, x):\n",
        "    weighted_x = self.dense1(x)\n",
        "    weighted_x = self.dense2(weighted_x)\n",
        "    return weighted_x"
      ]
    },
    {
      "cell_type": "code",
      "execution_count": null,
      "metadata": {
        "id": "U7VfIPm_XCc1",
        "outputId": "85079638-1417-4ec6-d37d-18367ee5e9ad",
        "colab": {
          "base_uri": "https://localhost:8080/"
        }
      },
      "outputs": [
        {
          "output_type": "execute_result",
          "data": {
            "text/plain": [
              "TensorShape([1, 32, 32, 64])"
            ]
          },
          "metadata": {},
          "execution_count": 3
        }
      ],
      "source": [
        "blk = ExampleBlock()\n",
        "X = tf.random.normal((1, 32, 32, 3))\n",
        "Y = blk(X)\n",
        "Y.shape"
      ]
    },
    {
      "cell_type": "markdown",
      "metadata": {
        "id": "HpMAO5s_uCdD"
      },
      "source": [
        "Similarly, using the following flowchart, fill in the ```__init__()``` and ```call()``` for the ResidualBlock class\n",
        "\n",
        "<img src='https://drive.google.com/uc?id=1P5nKQUh3IA-yGFScOtt9oJb9pTTmB3rC' width = 400>\n",
        "\n",
        "The left flowchart is the ResidualBlock Architecture for when ``` self_conv = False ``` and the right flowchart is when ```self_conv = True```. ```filters``` is a list of filters for the respective convolutional layers.\n",
        "\n",
        "\n",
        "In the flowchart, we can see a batch normalization layer. This layer is added to make training faster and more stable by recentering and rescaling the network inputs.\n",
        "\n",
        "Please remember to set ```kernel_initializer = tf.keras.initializers.RandomNormal(mean=0.0, stddev=0.05, seed=100)``` in your Convolutional layers to make the results reproducible."
      ]
    },
    {
      "cell_type": "markdown",
      "metadata": {
        "id": "h5tJgV7FrcDl"
      },
      "source": [
        "Here is some pseudocode for the ```__init__``` function. __PLEASE__ keep in mind that this is just pseudocode and this may not compile as is. This pseudocode is supposed to help you understand how to approach the problem logically. I have left out some layers from this pseudocode so there is still some code that needs to be written for your ```__init__``` function to work as intended.\n",
        "```\n",
        "def __init__(filters, self_conv):\n",
        "    self.__convolved = self_conv\n",
        "    strides = [1, 1]\n",
        "    if self_conv:\n",
        "      strides = [2, 1]\n",
        "    self.conv1 = conv(filters = filters[0],kernel_size=3, strides = strides[0])\n",
        "    self.conv2 = conv(filters = filters[1], kernel_size=3, strides = strides[1])\n",
        "    if self_conv:\n",
        "      self.conv3 = conv(filters = filters[2], kernel_size=1, strides = strides[0])\n",
        "\n",
        "```\n",
        "\n"
      ]
    },
    {
      "cell_type": "code",
      "execution_count": null,
      "metadata": {
        "id": "fUmEOoOkuYor",
        "colab": {
          "base_uri": "https://localhost:8080/"
        },
        "outputId": "7d48450f-ec00-4c6e-875f-a95802042fee"
      },
      "outputs": [
        {
          "output_type": "stream",
          "name": "stdout",
          "text": [
            "tf.Tensor([ 1 32 32  3], shape=(4,), dtype=int32)\n",
            "tf.Tensor([1.105336  1.0558189 1.1299278], shape=(3,), dtype=float32)\n",
            "tf.Tensor([ 1 16 16  3], shape=(4,), dtype=int32)\n",
            "tf.Tensor([0.29695478 0.         0.10192551], shape=(3,), dtype=float32)\n"
          ]
        }
      ],
      "source": [
        "tf.random.set_seed(100)\n",
        "\n",
        "class ResidualBlock(keras.Model):\n",
        "  def __init__(self, filters, self_conv):\n",
        "    super(ResidualBlock, self).__init__()\n",
        "    self.__convolved = self_conv\n",
        "    strides = [1, 1]\n",
        "    if self_conv:\n",
        "      strides = [2, 1]\n",
        "    self.conv1 = layers.Conv2D(filters = filters[0],kernel_size=3, strides = strides[0], padding='same',\n",
        "                               kernel_initializer = tf.keras.initializers.RandomNormal(mean=0.0, stddev=0.05, seed=100))\n",
        "    self.bn1 = layers.BatchNormalization()\n",
        "    self.relu1 = layers.ReLU()\n",
        "    self.conv2 = layers.Conv2D(filters = filters[1], kernel_size=3, strides = strides[1], padding='same',\n",
        "                               kernel_initializer = tf.keras.initializers.RandomNormal(mean=0.0, stddev=0.05, seed=100),)\n",
        "    self.bn2 = layers.BatchNormalization()\n",
        "    if self_conv:\n",
        "      self.conv3 = layers.Conv2D(filters = filters[1], kernel_size=1, strides = strides[0], padding='same',\n",
        "                        kernel_initializer = tf.keras.initializers.RandomNormal(mean=0.0, stddev=0.05, seed=100))\n",
        "\n",
        "    self.relu2 = layers.ReLU()\n",
        "\n",
        "  def call(self, x):\n",
        "    residual = x\n",
        "    x = self.conv1(x)\n",
        "    x = self.bn1(x)\n",
        "    x = self.relu1(x)\n",
        "\n",
        "    x = self.conv2(x)\n",
        "    x = self.bn2(x)\n",
        "\n",
        "    if self.__convolved:\n",
        "      residual = self.conv3(residual)\n",
        "\n",
        "    x += residual\n",
        "    x = self.relu2(x)\n",
        "    return x\n",
        "\n",
        "\n",
        "X = np.ones((1, 32, 32, 3))\n",
        "block_2 = ResidualBlock([16, 3], False)\n",
        "Y_2 = block_2(X)\n",
        "print(tf.shape(Y_2))\n",
        "print(Y_2[0, 0, 0])\n",
        "\n",
        "block_3 = ResidualBlock([16, 3, 3], True)\n",
        "Y_3 = block_3(X)\n",
        "print(tf.shape(Y_3))\n",
        "print(Y_3[0, 0, 0])"
      ]
    },
    {
      "cell_type": "markdown",
      "metadata": {
        "id": "S4Gljiq7oj4K"
      },
      "source": [
        "# Question 2 - ResNet18 Implementation (60 points)"
      ]
    },
    {
      "cell_type": "markdown",
      "metadata": {
        "id": "7njgcVRf-8P5"
      },
      "source": [
        "ResNet or Residual Network is a very popular Convolutional Neural network. It uses the concept of skip connections (as seen in Question 2) which adds the input with the output when the input goes through a bunch of convolutonal layers. This addition is key when some of the higher layers don't produce anything meaningful, the lower layers in the architechture still have a chance to perform well with the input. So, say the input passes through some convolutional layers and the output is 0. By adding the input back, we are giving the next convolutional layers some meaningful input.\n",
        "\n",
        "In this question, you will be asked to build ResNet18 which contains 18 convolutonal layers in total. You will be using the Cifar10 dataset to train the model. This dataset contains 60,000 32*32 color images (so it has 3 channels). These are the classes in the dataset - airplane, automobile, bird, cat, deer, dog, frog, horse, ship, and truck."
      ]
    },
    {
      "cell_type": "code",
      "execution_count": null,
      "metadata": {
        "id": "odrFmVk4WylY"
      },
      "outputs": [],
      "source": [
        "from keras.datasets import cifar10\n",
        "from sklearn.preprocessing import OneHotEncoder\n",
        "from sklearn.model_selection import train_test_split\n",
        "\n",
        "(X_train_old, Y_train_old), (X_test_old, Y_test_old) = cifar10.load_data()"
      ]
    },
    {
      "cell_type": "code",
      "execution_count": null,
      "metadata": {
        "id": "duufDqe1W0OE",
        "colab": {
          "base_uri": "https://localhost:8080/"
        },
        "outputId": "5bb48e6a-f1e7-48f3-e3b6-787c18e8ce55"
      },
      "outputs": [
        {
          "output_type": "stream",
          "name": "stdout",
          "text": [
            "(50000, 32, 32, 3)\n",
            "(40000, 10)\n"
          ]
        }
      ],
      "source": [
        "X_train = X_train_old.astype('float32')\n",
        "X_test = X_test_old.astype('float32')\n",
        "print(X_train.shape)\n",
        "\n",
        "X_train, X_val, y_train, y_val = train_test_split(X_train, Y_train_old, test_size=0.2, random_state=42)\n",
        "encoder = OneHotEncoder()\n",
        "encoder.fit(Y_train_old)\n",
        "\n",
        "Y_train = encoder.transform(y_train).toarray()\n",
        "Y_val = encoder.transform(y_val).toarray()\n",
        "\n",
        "Y_test = encoder.transform(Y_test_old).toarray()\n",
        "\n",
        "\n",
        "print(Y_train.shape)"
      ]
    },
    {
      "cell_type": "markdown",
      "metadata": {
        "id": "svXba1cja1N9"
      },
      "source": [
        "## Part (a) Data Augmentation (20 points)\n",
        "\n",
        "Before starting to train the ResNet Model, we need to make some modifications to our images. Data Augmentation is a great way to prevent overfitting. We also need to rescale the model to have the pixels be between 0 and 1. Create a sequential model that has 3 layers - a layer that does random horizontal flips, a layer that does random rotations of factor 0.2, and a layer that rescales the images accordingly.\n",
        "\n",
        "Please remember to set the seed argument to 100 for the Random layers."
      ]
    },
    {
      "cell_type": "code",
      "execution_count": null,
      "metadata": {
        "id": "-CLo4zira4ka"
      },
      "outputs": [],
      "source": [
        "data_aug_preprocess = tf.keras.Sequential([layers.RandomFlip('horizontal', seed=100),\n",
        "                                          layers.RandomRotation(0.2, seed=100),\n",
        "                                          layers.Rescaling(1/255)]\n",
        ")"
      ]
    },
    {
      "cell_type": "markdown",
      "metadata": {
        "id": "iZG92mFxv3EU"
      },
      "source": [
        "## Part (b) Filling in ResNet18 Class (40 points)\n",
        "Use the following flowchart and ResidualBlock class from Question 1 to implement ResNet18\n",
        "\n",
        "<img src='https://drive.google.com/uc?id=1y6DHU48iu54YAeg7ywx7_3zyZKHnbsdY' width = 700>\n",
        "\n",
        "The \"Skip Connection\" parts are the ResidualBlocks where ```self_conv = True```. As we can see from the output layer of this flowchart, this network is for a problem with 1000 outputs. Please remember to swap that output layer out with an appropriate output layer for an image classification problem with ```num_classes``` number of outputs. ```data_aug``` will take the sequential model with the data augmentation and preprocessing layers\n",
        "\n",
        "Please remember to set ```kernel_initializer = tf.keras.initializers.RandomNormal(mean=0.0, stddev=0.05, seed=100)``` in your Convolutional layers and dense layers to make the results reproducible.\n",
        "\n",
        "Make sure to go to \"Edit\" > \"Notebook Settings\" and select \"GPU\" before running the next few code chunks.\n"
      ]
    },
    {
      "cell_type": "markdown",
      "metadata": {
        "id": "HNa_29stvFlr"
      },
      "source": [
        "Here is some pseudocode for the ```__init__``` function. __PLEASE__ keep in mind that this is just pseudocode and this may not compile as is. It's also an incomplete implementation as I have only included code for a few blocks. This pseudocode is supposed to help you understand how to approach the problem logically. There is still some code that needs to be written for your ```__init__``` function to work.\n",
        "```\n",
        "def __init__(filters, num_classes, input_shape, data_aug):\n",
        "  self.da = data_aug\n",
        "  self.conv1 = conv(filters = 64, kernel_size = 7, strides=2, input_shape = input_shape)\n",
        "  self.before_res_block_bn = batchnorm()\n",
        "  self.maxpooling = maxpool(pool_size=(2, 2), strides=2, padding=\"same\")\n",
        "  self.resnetblock_1 = ResidualBlock([64, 64], False) # This is the ResidualBlock from the previous question\n",
        "  ...\n",
        "  # The rest is left to you to implement\n",
        "\n",
        "```\n",
        "\n"
      ]
    },
    {
      "cell_type": "code",
      "execution_count": null,
      "metadata": {
        "id": "quZuhmwFpFJB"
      },
      "outputs": [],
      "source": [
        "class ResNet18(keras.Model):\n",
        "  def __init__(self, num_classes, input_shape, data_aug):\n",
        "    super(ResNet18, self).__init__()\n",
        "    self.da = data_aug\n",
        "\n",
        "    self.conv1 = layers.Conv2D(64, kernel_size=7, strides=2, padding='same', input_shape=input_shape,\n",
        "                               kernel_initializer = tf.keras.initializers.RandomNormal(mean=0.0, stddev=0.05, seed=100))\n",
        "\n",
        "    self.before_res_block_bn = layers.BatchNormalization()\n",
        "    self.maxpool =  layers.MaxPooling2D(pool_size=(3,3), strides=2, padding='same')\n",
        "\n",
        "    self.resnetblock_1 = ResidualBlock([64, 64], False)\n",
        "    self.resnetblock_2 = ResidualBlock([64, 64], False)\n",
        "\n",
        "    self.resnetblock_3 = ResidualBlock([128, 128], True)\n",
        "    self.resnetblock_4 = ResidualBlock([128, 128], False)\n",
        "\n",
        "    self.resnetblock_5 = ResidualBlock([256, 256], True)\n",
        "    self.resnetblock_6 = ResidualBlock([256, 256], False)\n",
        "\n",
        "    self.resnetblock_7 = ResidualBlock([512, 512], True)\n",
        "    self.resnetblock_8 = ResidualBlock([512, 512], False)\n",
        "\n",
        "    self.avgpool = layers.GlobalAveragePooling2D()\n",
        "    self.out = layers.Dense(num_classes, activation='softmax',\n",
        "                            kernel_initializer = tf.keras.initializers.RandomNormal(mean=0.0, stddev=0.05, seed=100))\n",
        "\n",
        "  def call(self, x):\n",
        "    x = self.da(x)\n",
        "\n",
        "    x = self.conv1(x)\n",
        "    x = self.before_res_block_bn(x)\n",
        "    x = self.maxpool(x)\n",
        "\n",
        "    x = self.resnetblock_1(x)\n",
        "    x = self.resnetblock_2(x)\n",
        "\n",
        "    x = self.resnetblock_3(x)\n",
        "    x = self.resnetblock_4(x)\n",
        "\n",
        "    x = self.resnetblock_5(x)\n",
        "    x = self.resnetblock_6(x)\n",
        "\n",
        "    x = self.resnetblock_7(x)\n",
        "    x = self.resnetblock_8(x)\n",
        "\n",
        "    x = self.avgpool(x)\n",
        "    x = self.out(x)\n",
        "    return x\n",
        "\n"
      ]
    },
    {
      "cell_type": "code",
      "execution_count": null,
      "metadata": {
        "id": "R3aibGcfVG5O",
        "colab": {
          "base_uri": "https://localhost:8080/"
        },
        "outputId": "a62dee3b-e279-4947-8d25-eac67c196329"
      },
      "outputs": [
        {
          "output_type": "stream",
          "name": "stdout",
          "text": [
            "Epoch 1/10\n",
            "\u001b[1m156/156\u001b[0m \u001b[32m━━━━━━━━━━━━━━━━━━━━\u001b[0m\u001b[37m\u001b[0m \u001b[1m25s\u001b[0m 76ms/step - accuracy: 0.3220 - categorical_crossentropy: 1.9786 - loss: 1.9786 - val_accuracy: 0.4384 - val_categorical_crossentropy: 1.5505 - val_loss: 1.5505\n",
            "Epoch 2/10\n",
            "\u001b[1m156/156\u001b[0m \u001b[32m━━━━━━━━━━━━━━━━━━━━\u001b[0m\u001b[37m\u001b[0m \u001b[1m1s\u001b[0m 3ms/step - accuracy: 0.4688 - categorical_crossentropy: 1.4377 - loss: 1.4377 - val_accuracy: 0.4441 - val_categorical_crossentropy: 1.5572 - val_loss: 1.5572\n",
            "Epoch 3/10\n",
            "\u001b[1m156/156\u001b[0m \u001b[32m━━━━━━━━━━━━━━━━━━━━\u001b[0m\u001b[37m\u001b[0m \u001b[1m11s\u001b[0m 68ms/step - accuracy: 0.4576 - categorical_crossentropy: 1.5069 - loss: 1.5069 - val_accuracy: 0.4998 - val_categorical_crossentropy: 1.3972 - val_loss: 1.3972\n",
            "Epoch 4/10\n",
            "\u001b[1m156/156\u001b[0m \u001b[32m━━━━━━━━━━━━━━━━━━━━\u001b[0m\u001b[37m\u001b[0m \u001b[1m1s\u001b[0m 3ms/step - accuracy: 0.5156 - categorical_crossentropy: 1.2169 - loss: 1.2169 - val_accuracy: 0.4968 - val_categorical_crossentropy: 1.4056 - val_loss: 1.4056\n",
            "Epoch 5/10\n",
            "\u001b[1m156/156\u001b[0m \u001b[32m━━━━━━━━━━━━━━━━━━━━\u001b[0m\u001b[37m\u001b[0m \u001b[1m11s\u001b[0m 67ms/step - accuracy: 0.5061 - categorical_crossentropy: 1.3677 - loss: 1.3677 - val_accuracy: 0.5317 - val_categorical_crossentropy: 1.3053 - val_loss: 1.3053\n",
            "Epoch 6/10\n",
            "\u001b[1m156/156\u001b[0m \u001b[32m━━━━━━━━━━━━━━━━━━━━\u001b[0m\u001b[37m\u001b[0m \u001b[1m1s\u001b[0m 4ms/step - accuracy: 0.5156 - categorical_crossentropy: 1.1884 - loss: 1.1884 - val_accuracy: 0.5365 - val_categorical_crossentropy: 1.2978 - val_loss: 1.2978\n",
            "Epoch 7/10\n",
            "\u001b[1m156/156\u001b[0m \u001b[32m━━━━━━━━━━━━━━━━━━━━\u001b[0m\u001b[37m\u001b[0m \u001b[1m20s\u001b[0m 69ms/step - accuracy: 0.5466 - categorical_crossentropy: 1.2607 - loss: 1.2607 - val_accuracy: 0.5567 - val_categorical_crossentropy: 1.2522 - val_loss: 1.2522\n",
            "Epoch 8/10\n",
            "\u001b[1m156/156\u001b[0m \u001b[32m━━━━━━━━━━━━━━━━━━━━\u001b[0m\u001b[37m\u001b[0m \u001b[1m1s\u001b[0m 4ms/step - accuracy: 0.5156 - categorical_crossentropy: 1.1671 - loss: 1.1671 - val_accuracy: 0.5550 - val_categorical_crossentropy: 1.2544 - val_loss: 1.2544\n",
            "Epoch 9/10\n",
            "\u001b[1m156/156\u001b[0m \u001b[32m━━━━━━━━━━━━━━━━━━━━\u001b[0m\u001b[37m\u001b[0m \u001b[1m20s\u001b[0m 68ms/step - accuracy: 0.5739 - categorical_crossentropy: 1.1784 - loss: 1.1784 - val_accuracy: 0.5842 - val_categorical_crossentropy: 1.1772 - val_loss: 1.1772\n",
            "Epoch 10/10\n",
            "\u001b[1m156/156\u001b[0m \u001b[32m━━━━━━━━━━━━━━━━━━━━\u001b[0m\u001b[37m\u001b[0m \u001b[1m1s\u001b[0m 4ms/step - accuracy: 0.6250 - categorical_crossentropy: 0.9736 - loss: 0.9736 - val_accuracy: 0.5803 - val_categorical_crossentropy: 1.1921 - val_loss: 1.1921\n"
          ]
        }
      ],
      "source": [
        "resnet_model = ResNet18(10, (None, 32, 32, 3), data_aug_preprocess)\n",
        "resnet_model.compile(optimizer= \"adam\",\n",
        "                     loss=\"categorical_crossentropy\",\n",
        "                     metrics=[\"categorical_crossentropy\", \"accuracy\"])\n",
        "history = resnet_model.fit(X_train, Y_train, batch_size = 256, steps_per_epoch = len(X_train) // 256, epochs = 10,\n",
        "                 validation_data = (X_val, Y_val))"
      ]
    },
    {
      "cell_type": "code",
      "execution_count": null,
      "metadata": {
        "id": "rDsYpmEv5VXM",
        "colab": {
          "base_uri": "https://localhost:8080/",
          "height": 447
        },
        "outputId": "5633ff25-4034-4acd-ece0-c2c2a0e2e787"
      },
      "outputs": [
        {
          "output_type": "execute_result",
          "data": {
            "text/plain": [
              "<matplotlib.legend.Legend at 0x7823c920c5e0>"
            ]
          },
          "metadata": {},
          "execution_count": 49
        },
        {
          "output_type": "display_data",
          "data": {
            "text/plain": [
              "<Figure size 640x480 with 1 Axes>"
            ],
            "image/png": "[encoded data removed]"
          },
          "metadata": {}
        }
      ],
      "source": [
        "val_loss_q3 = history.history[\"val_categorical_crossentropy\"]\n",
        "train_loss_q3 = history.history[\"categorical_crossentropy\"]\n",
        "plt.plot(np.arange(1,len(val_loss_q3)+1),val_loss_q3, label=\"val_loss\")\n",
        "plt.plot(np.arange(1,len(train_loss_q3)+1),train_loss_q3, label=\"train loss\")\n",
        "plt.legend()"
      ]
    }
  ],
  "metadata": {
    "accelerator": "GPU",
    "colab": {
      "provenance": [],
      "include_colab_link": true
    },
    "gpuClass": "standard",
    "kernelspec": {
      "display_name": "Python 3 (ipykernel)",
      "language": "python",
      "name": "python3"
    },
    "language_info": {
      "name": "python"
    }
  },
  "nbformat": 4,
  "nbformat_minor": 0
}